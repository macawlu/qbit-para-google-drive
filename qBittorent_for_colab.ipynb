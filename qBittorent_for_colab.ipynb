{
  "nbformat": 4,
  "nbformat_minor": 0,
  "metadata": {
    "colab": {
      "name": "qBittorent para colab.ipynb",
      "provenance": [],
      "include_colab_link": true
    },
    "kernelspec": {
      "name": "python3",
      "display_name": "Python 3"
    }
  },
  "cells": [
    {
      "cell_type": "markdown",
      "metadata": {
        "id": "view-in-github",
        "colab_type": "text"
      },
      "source": [
        "<a href=\"https://colab.research.google.com/github/javsubs91/qBittorent/blob/main/qBittorent_for_colab.ipynb\" target=\"_parent\"><img src=\"https://colab.research.google.com/assets/colab-badge.svg\" alt=\"Open In Colab\"/></a>"
      ]
    },
    {
      "cell_type": "markdown",
      "metadata": {
        "id": "ygDyFQvR5Gci"
      },
      "source": [
        "<center><img src=\"https://upload.wikimedia.org/wikipedia/commons/9/9e/Qbittorrent_logo.png\" height=\"120px\" align=\"left\"></a>\n",
        "\n",
        "# <font size=6>**qBittorent para colab**</font>\n",
        "\n",
        "---\n",
        "\n",
        "\n",
        "\n",
        "# ***`By: macawlu`***"
      ]
    },
    {
      "cell_type": "markdown",
      "metadata": {
        "id": "kOcTvJx2pT_y"
      },
      "source": [
        "## CODE FOR COLAB NOTEBOOK STAY ALIVE</br>"
      ]
    },
    {
      "cell_type": "markdown",
      "metadata": {
        "id": "cRwNEZJmUFMg"
      },
      "source": [
        "run this code below on your browser's developer `tool/console`.\n",
        "\n",
        "</br>\n",
        "\n",
        "<pre><code>function ClickConnect() {\n",
        "  console.log('Working')\n",
        "  document\n",
        "    .querySelector('#top-toolbar > colab-connect-button')\n",
        "    .shadowRoot.querySelector('#connect')\n",
        "    .click()\n",
        "}\n",
        "\n",
        "setInterval(ClickConnect, 60000)</code></pre>\n",
        "\n",
        "</br>\n",
        "\n"
      ]
    },
    {
      "cell_type": "markdown",
      "metadata": {
        "id": "4sXeh7Tdx1v-"
      },
      "source": [
        "## <img src=\"https://miro.medium.com/max/1400/0*PBHashST3lI3iehC.png\" height=\"80\" align=\"left\"/><font size=5>Monte Google Drive</font>"
      ]
    },
    {
      "cell_type": "code",
      "metadata": {
        "id": "LkGoo1n9PNgj",
        "cellView": "form"
      },
      "source": [
        "# ============================= FORM ============================= #\n",
        "# @markdown <h3>← Mount/Unmount Google Drive</h3>\n",
        "# @markdown <p>Esta célula irá montar / desmontar o Google Drive para /content/drive/</p></br>\n",
        "MODE = \"MOUNT\" #@param [\"MOUNT\", \"UNMOUNT\"]\n",
        "# ================================================================ #\n",
        "\n",
        "from IPython.display import clear_output\n",
        "from google.colab import drive\n",
        "drive.mount._DEBUG = False\n",
        "if MODE == \"MOUNT\":\n",
        "  drive.mount('/content/drive', force_remount=True)\n",
        "elif MODE == \"UNMOUNT\":\n",
        "  try:\n",
        "    drive.flush_and_unmount()\n",
        "  except ValueError:\n",
        "    pass\n",
        "  get_ipython().system_raw(\"rm -rf /root/.config/Google/DriveFS\")\n",
        "\n",
        "clear_output()"
      ],
      "execution_count": null,
      "outputs": []
    },
    {
      "cell_type": "markdown",
      "metadata": {
        "id": "4GMoahScct0a"
      },
      "source": [
        "## <img src=\"https://upload.wikimedia.org/wikipedia/commons/9/9e/Qbittorrent_logo.png\" height=\"70\" align=\"left\"/><font size=5>Install qBittorent</font>"
      ]
    },
    {
      "cell_type": "markdown",
      "metadata": {
        "id": "LsNux1NEcPVy"
      },
      "source": [
        "você precisa fornecer seu próprio ngrok Authtoken\n",
        "\n",
        "---\n",
        "\n",
        "Click <a href=\"https://dashboard.ngrok.com/signup\" target=\"_blank\">here</a> to register for a free ngrok account.</br>Click <a href=\"https://dashboard.ngrok.com/auth/your-authtoken\" target=\"_blank\">here</a> to copy your ngrok Authtoken.</br>"
      ]
    },
    {
      "cell_type": "code",
      "metadata": {
        "id": "74hLw33gSjxP",
        "cellView": "form"
      },
      "source": [
        "# ============================= FORM ============================= #\n",
        "# @markdown <font size=5>← [Start] qBittorrent</font>\n",
        "#QBITTORRENT_VARIANT = \"official\" #@param [\"official\", \"unofficial\"]\n",
        "## @markdown ---\n",
        "## @markdown <p>qBittorrent Default Credential</p>\n",
        "## @markdown > Username: admin</br>Password: adminadmin\n",
        "## @markdown ---\n",
        "#USE_FREE_TOKEN = True  # @param {type:\"boolean\"}\n",
        "#TOKEN = \"\"  # @param {type:\"string\"}\n",
        "#PORT_FORWARD = \"localhost\" # @param [\"ngrok\", \"localhost\"]\n",
        "USE_FREE_TOKEN = False\n",
        "REGION = \"AP\"\n",
        "TOKEN = \"cole seu token ngrok aqui\"  # @param {type:\"string\"}\n",
        "PORT_FORWARD = \"ngrok\"\n",
        "# ================================================================ #\n",
        "\n",
        "import os, psutil, time, urllib.request\n",
        "from IPython.display import HTML, clear_output\n",
        "\n",
        "HOME = os.path.expanduser(\"~\")\n",
        "\n",
        "if not os.path.exists(f\"{HOME}/.ipython/mixlab.py\"):\n",
        "    hCode = \"https://raw.githubusercontent.com/shirooo39/\" \\\n",
        "                \"MiXLab/master/resources/mixlab.py\"\n",
        "    urllib.request.urlretrieve(hCode, f\"{HOME}/.ipython/mixlab.py\")\n",
        "\n",
        "from mixlab import (\n",
        "    checkAvailable,\n",
        "    loadingAn,\n",
        "    PortForward_wrapper,\n",
        "    runSh,\n",
        "    displayUrl,\n",
        "    findProcess\n",
        ")\n",
        "\n",
        "#Nota: precisa localizar onde o WebUI é extraído e, em seguida, removê-lo\n",
        "#      in order to use the proper WebUI for the Official or Unofficial version of qBittorrent\n",
        "#runSh(\"rm -f /etc/apt/sources.list.d/qbittorrent-team-ubuntu-qbittorrent-stable-bionic.list\")\n",
        "#runSh(\"rm -f /etc/apt/sources.list.d/qbittorrent-team-ubuntu-qbittorrent-stable-bionic.list.save\")\n",
        "#runSh(\"rm -f /etc/apt/sources.list.d/poplite-ubuntu-qbittorrent-enhanced-bionic.list\")\n",
        "#runSh(\"rm -f /etc/apt/sources.list.d/poplite-ubuntu-qbittorrent-enhanced-bionic.list.save\")\n",
        "#runSh(\"rm -f /usr/bin/qbittorrent\")\n",
        "#runSh(\"rm -f /usr/bin/qbittorrent-nox\")\n",
        "#runSh(\"sudo apt-get purge --auto-remove qbittorrent-nox \")\n",
        "#clear_output()\n",
        "\n",
        "def addUtils():\n",
        "    if not checkAvailable(\"/usr/local/sessionSettings\"):\n",
        "        runSh(\"mkdir -p -m 777 /usr/local/sessionSettings\")\n",
        "    if not checkAvailable(\"/content/upload.txt\"):\n",
        "        runSh(\"touch /content/upload.txt\")\n",
        "    if not checkAvailable(\"checkAptUpdate.txt\", userPath=True):\n",
        "        runSh(\"apt update -qq -y\")\n",
        "        runSh(\"apt-get install -y iputils-ping\")\n",
        "\n",
        "def configTimezone(auto=True):\n",
        "    if checkAvailable(\"timezone.txt\", userPath=True):\n",
        "        return\n",
        "    if not auto:\n",
        "        runSh(\"sudo dpkg-reconfigure tzdata\")\n",
        "    else:\n",
        "        runSh(\"sudo ln -fs /usr/share/zoneinfo/Asia/Ho_Chi_Minh /etc/localtime\")\n",
        "        runSh(\"sudo dpkg-reconfigure -f noninteractive tzdata\")\n",
        "\n",
        "def uploadQBittorrentConfig():\n",
        "    if checkAvailable(\"updatedQBSettings.txt\", userPath=True):\n",
        "        return\n",
        "    runSh(\n",
        "        \"mkdir -p -m 666 /content/qBittorrent /root/.qBittorrent_temp /root/.config/qBittorrent\"\n",
        "    )\n",
        "    runSh(\n",
        "        \"wget -qq https://raw.githubusercontent.com/shirooo39/MiXLab/master/resources/configurations/qbittorrent/qBittorrent.conf \\\n",
        "            -O /root/.config/qBittorrent/qBittorrent.conf\"\n",
        "    )\n",
        "\n",
        "def prepareSession():\n",
        "    if checkAvailable(\"ready.txt\", userPath=True):\n",
        "        return\n",
        "    else:\n",
        "        addUtils()\n",
        "        configTimezone()\n",
        "        uploadQBittorrentConfig()\n",
        "\n",
        "def installQBittorrent():\n",
        "    if checkAvailable(\"/usr/bin/qbittorrent-nox\"):\n",
        "        return\n",
        "    else:\n",
        "#        if QBITTORRENT_VARIANT == \"official\":\n",
        "            try:\n",
        "#                if checkAvailable(\"/etc/apt/sources.list.d/poplite-ubuntu-qbittorrent-enhanced-bionic.list\"):\n",
        "#                    runSh(\"rm /etc/apt/sources.list.d/poplite-ubuntu-qbittorrent-enhanced-bionic.list\")\n",
        "#                elif checkAvailable(\"/etc/apt/sources.list.d/poplite-ubuntu-qbittorrent-enhanced-bionic.list.save\"):\n",
        "#                    runSh(\"rm /etc/apt/sources.list.d/poplite-ubuntu-qbittorrent-enhanced-bionic.list.save\")\n",
        "#                else:\n",
        "                    runSh(\"sudo add-apt-repository ppa:qbittorrent-team/qbittorrent-stable\")\n",
        "                    runSh(\"sudo apt-get update\")\n",
        "                    runSh(\"sudo apt install qbittorrent-nox\")\n",
        "            except:\n",
        "                raise Exception('Failed to install qBittorrent!')\n",
        "#        elif QBITTORRENT_VARIANT == \"unofficial\":\n",
        "#            try:\n",
        "#                if checkAvailable(\"/etc/apt/sources.list.d/qbittorrent-team-ubuntu-qbittorrent-stable-bionic.list\"):\n",
        "#                    runSh(\"rm /etc/apt/sources.list.d/qbittorrent-team-ubuntu-qbittorrent-stable-bionic.list\")\n",
        "#                elif checkAvailable(\"/etc/apt/sources.list.d/qbittorrent-team-ubuntu-qbittorrent-stable-bionic.list.save\"):\n",
        "#                    runSh(\"rm /etc/apt/sources.list.d/qbittorrent-team-ubuntu-qbittorrent-stable-bionic.list.save\")\n",
        "#                else:\n",
        "#                    runSh(\"sudo add-apt-repository ppa:poplite/qbittorrent-enhanced\")\n",
        "#                    runSh(\"sudo apt-get update\")\n",
        "#                    runSh(\"sudo apt-get install qbittorrent-enhanced qbittorrent-enhanced-nox\")\n",
        "#            except:\n",
        "#                raise Exception('Failed to install qBittorrent!')\n",
        "\n",
        "def startQBService():\n",
        "    prepareSession()\n",
        "    installQBittorrent()\n",
        "    if not findProcess(\"qbittorrent-nox\", \"-d --webui-port\"):\n",
        "        runSh(f\"qbittorrent-nox -d --webui-port={QB_Port}\")\n",
        "        time.sleep(1)\n",
        "\n",
        "QB_Port = 10001\n",
        "loadingAn()\n",
        "startQBService()\n",
        "\n",
        "clear_output()\n",
        "\n",
        "server = PortForward_wrapper(PORT_FORWARD, TOKEN, USE_FREE_TOKEN, [['qbittorrent', QB_Port, 'http']], 'sa', [f\"{HOME}/.ngrok2/qbittorrent.yml\", 4088]).start('qbittorrent', displayB=False)\n",
        "displayUrl(server, pNamU='qBittorrent : ')"
      ],
      "execution_count": null,
      "outputs": []
    }
  ]
}
